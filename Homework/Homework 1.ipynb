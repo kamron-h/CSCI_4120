{
 "cells": [
  {
   "cell_type": "code",
   "id": "initial_id",
   "metadata": {
    "collapsed": true,
    "ExecuteTime": {
     "end_time": "2024-08-30T03:20:08.340897Z",
     "start_time": "2024-08-30T03:20:08.336912Z"
    }
   },
   "source": "",
   "outputs": [],
   "execution_count": null
  },
  {
   "metadata": {
    "ExecuteTime": {
     "end_time": "2024-08-30T03:20:08.389929Z",
     "start_time": "2024-08-30T03:20:08.383640Z"
    }
   },
   "cell_type": "code",
   "source": "",
   "id": "580b67f1d6c624a8",
   "outputs": [],
   "execution_count": null
  },
  {
   "metadata": {
    "ExecuteTime": {
     "end_time": "2024-08-30T03:20:08.437836Z",
     "start_time": "2024-08-30T03:20:08.432976Z"
    }
   },
   "cell_type": "code",
   "source": "",
   "id": "21796ae175b1b958",
   "outputs": [],
   "execution_count": null
  },
  {
   "metadata": {},
   "cell_type": "markdown",
   "source": "### Handle/Get the data",
   "id": "c191a045b617121e"
  },
  {
   "metadata": {
    "ExecuteTime": {
     "end_time": "2024-08-30T03:20:08.503989Z",
     "start_time": "2024-08-30T03:20:08.476928Z"
    }
   },
   "cell_type": "code",
   "source": [
    "import pandas as pd\n",
    "from nest_asyncio import apply\n",
    "\n",
    "url = 'iris.data'\n",
    "df = pd.read_csv(url, header=None)\n",
    "print(df.head())"
   ],
   "id": "a3b9c1a287b4714e",
   "outputs": [
    {
     "name": "stdout",
     "output_type": "stream",
     "text": [
      "     0    1    2    3            4\n",
      "0  5.1  3.5  1.4  0.2  Iris-setosa\n",
      "1  4.9  3.0  1.4  0.2  Iris-setosa\n",
      "2  4.7  3.2  1.3  0.2  Iris-setosa\n",
      "3  4.6  3.1  1.5  0.2  Iris-setosa\n",
      "4  5.0  3.6  1.4  0.2  Iris-setosa\n"
     ]
    }
   ],
   "execution_count": 69
  },
  {
   "metadata": {},
   "cell_type": "markdown",
   "source": "### Preprocess the data by first splitting it up between training and testing data",
   "id": "7a15ecef56348548"
  },
  {
   "metadata": {
    "ExecuteTime": {
     "end_time": "2024-08-30T03:20:08.606279Z",
     "start_time": "2024-08-30T03:20:08.594550Z"
    }
   },
   "cell_type": "code",
   "source": [
    "import random\n",
    "\n",
    "\n",
    "def loadDataset(filename, split):\n",
    "\ttrainingSet=[]\n",
    "\ttestSet=[]\n",
    "\tdf = pd.read_csv(url, header=None)\n",
    "\tarray = df.to_numpy()\n",
    "\trandom.shuffle(array)\n",
    "\ttraining_len = int(len(array)*split)\n",
    "\ttrainingSet = array[:training_len]\n",
    "\ttestSet = array[training_len:]\n",
    "\treturn trainingSet, testSet"
   ],
   "id": "fdae29cc3eedbb29",
   "outputs": [],
   "execution_count": 70
  },
  {
   "metadata": {
    "ExecuteTime": {
     "end_time": "2024-08-30T03:20:08.636657Z",
     "start_time": "2024-08-30T03:20:08.628474Z"
    }
   },
   "cell_type": "code",
   "source": "",
   "id": "6833ed9fa431b2c8",
   "outputs": [],
   "execution_count": null
  },
  {
   "metadata": {},
   "cell_type": "markdown",
   "source": "",
   "id": "c820a6e66e13248e"
  },
  {
   "metadata": {},
   "cell_type": "markdown",
   "source": "### Test the function by printing the output",
   "id": "641788ea1a03f5cb"
  },
  {
   "metadata": {
    "ExecuteTime": {
     "end_time": "2024-08-30T03:20:08.714649Z",
     "start_time": "2024-08-30T03:20:08.695830Z"
    }
   },
   "cell_type": "code",
   "source": [
    "trainingSet=[]\n",
    "testSet=[]\n",
    "url = 'iris.data'\n",
    "trainingSet, testSet = loadDataset(url, 0.66)\n",
    "\n",
    "# repr() Return a string containing a printable representation\n",
    "print('Train: ' + repr(len(trainingSet)))\n",
    "print('Test: ' + repr(len(testSet)))"
   ],
   "id": "6060595f200c35fe",
   "outputs": [
    {
     "name": "stdout",
     "output_type": "stream",
     "text": [
      "Train: 99\n",
      "Test: 51\n"
     ]
    }
   ],
   "execution_count": 71
  },
  {
   "metadata": {},
   "cell_type": "markdown",
   "source": "### Perform the KNN algorithm",
   "id": "68423a2f83db9fc4"
  },
  {
   "metadata": {
    "ExecuteTime": {
     "end_time": "2024-08-30T03:20:08.791489Z",
     "start_time": "2024-08-30T03:20:08.772571Z"
    }
   },
   "cell_type": "code",
   "source": [
    "from sklearn.neighbors import KNeighborsClassifier\n",
    "from sklearn.metrics import accuracy_score\n",
    "\n",
    "\n",
    "def train_data_knn(trainingSet, testSet, k=4, mode='brute'):\n",
    "    # Split the data again to get the X and y values. \n",
    "    # X is the data and y is the target/label.\n",
    "    X_train = [data[:4] for data in trainingSet]\n",
    "    y_train = [data[4] for data in trainingSet]\n",
    "    \n",
    "    X_test = [data[:4] for data in testSet]\n",
    "    y_test = [data[4] for data in testSet]\n",
    "    \n",
    "    # Train the KNN model\n",
    "    knn = KNeighborsClassifier(n_neighbors=k)\n",
    "    knn.algorithm = mode\n",
    "    knn.fit(X_train, y_train)\n",
    "    \n",
    "    # Make predictions\n",
    "    predictions = knn.predict(X_test)\n",
    "    \n",
    "    # Evaluate the model\n",
    "    accuracy = accuracy_score(y_test, predictions)\n",
    "    \n",
    "    return accuracy\n",
    "\n",
    "\n",
    "# def train_data_knn_kdtree(trainingSet, testSet, k=4):\n",
    "#     # Split the data again to get the X and y values. \n",
    "#     # X is the data and y is the target/label.\n",
    "#     X_train = [data[:4] for data in trainingSet]\n",
    "#     y_train = [data[4] for data in trainingSet]\n",
    "#     \n",
    "#     X_test = [data[:4] for data in testSet]\n",
    "#     y_test = [data[4] for data in testSet]\n",
    "#     \n",
    "#     # Train the KNN model\n",
    "#     knn = KNeighborsClassifier(n_neighbors=k)\n",
    "#     knn.algorithm = 'kd_tree'\n",
    "#     knn.fit(X_train, y_train)\n",
    "#     \n",
    "#     # Make predictions\n",
    "#     predictions = knn.predict(X_test)\n",
    "#     \n",
    "#     # Evaluate the model\n",
    "#     accuracy = accuracy_score(y_test, predictions)\n",
    "#     \n",
    "#     return accuracy\n",
    "    \n"
   ],
   "id": "90658875cd4f897",
   "outputs": [],
   "execution_count": 72
  },
  {
   "metadata": {},
   "cell_type": "markdown",
   "source": "### Get the average accuracy of the model",
   "id": "9dfbaef3deeac1ac"
  },
  {
   "metadata": {
    "ExecuteTime": {
     "end_time": "2024-08-30T03:20:08.947439Z",
     "start_time": "2024-08-30T03:20:08.854809Z"
    }
   },
   "cell_type": "code",
   "source": [
    "count = 0\n",
    "avg = 0\n",
    "accuracy_scores = []\n",
    "\n",
    "def get_avg_accuracy(trainingSet, testSet, epochs):\n",
    "    for i in range(epochs):\n",
    "        accuracy_scores.append(train_data_knn(trainingSet, testSet))\n",
    "        print(f'Epoch {i+1}: {accuracy_scores[i]}')\n",
    "        print('Average: ', sum(accuracy_scores)/len(accuracy_scores))\n",
    "    avg = sum(accuracy_scores)/len(accuracy_scores)\n",
    "    return avg\n",
    "\t\n",
    "print(get_avg_accuracy(trainingSet, testSet, epochs=5))"
   ],
   "id": "ce8b796752ea48b7",
   "outputs": [
    {
     "name": "stdout",
     "output_type": "stream",
     "text": [
      "Epoch 1: 0.7843137254901961\n",
      "Average:  0.7843137254901961\n",
      "Epoch 2: 0.7843137254901961\n",
      "Average:  0.7843137254901961\n",
      "Epoch 3: 0.7843137254901961\n",
      "Average:  0.7843137254901961\n",
      "Epoch 4: 0.7843137254901961\n",
      "Average:  0.7843137254901961\n",
      "Epoch 5: 0.7843137254901961\n",
      "Average:  0.7843137254901961\n",
      "0.7843137254901961\n"
     ]
    }
   ],
   "execution_count": 73
  },
  {
   "metadata": {
    "ExecuteTime": {
     "end_time": "2024-08-30T03:20:09.071317Z",
     "start_time": "2024-08-30T03:20:09.065520Z"
    }
   },
   "cell_type": "code",
   "source": "",
   "id": "8a60e3606c41ec3b",
   "outputs": [],
   "execution_count": null
  },
  {
   "metadata": {
    "ExecuteTime": {
     "end_time": "2024-08-30T03:20:09.134547Z",
     "start_time": "2024-08-30T03:20:09.130641Z"
    }
   },
   "cell_type": "code",
   "source": "",
   "id": "30bc3110a87c5d0f",
   "outputs": [],
   "execution_count": null
  },
  {
   "metadata": {
    "ExecuteTime": {
     "end_time": "2024-08-30T03:20:09.241470Z",
     "start_time": "2024-08-30T03:20:09.236910Z"
    }
   },
   "cell_type": "code",
   "source": "",
   "id": "2b71a41b5b4e7191",
   "outputs": [],
   "execution_count": null
  }
 ],
 "metadata": {
  "kernelspec": {
   "display_name": "Python 3",
   "language": "python",
   "name": "python3"
  },
  "language_info": {
   "codemirror_mode": {
    "name": "ipython",
    "version": 2
   },
   "file_extension": ".py",
   "mimetype": "text/x-python",
   "name": "python",
   "nbconvert_exporter": "python",
   "pygments_lexer": "ipython2",
   "version": "2.7.6"
  }
 },
 "nbformat": 4,
 "nbformat_minor": 5
}
